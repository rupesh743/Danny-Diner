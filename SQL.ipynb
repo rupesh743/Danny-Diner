{
  "nbformat": 4,
  "nbformat_minor": 0,
  "metadata": {
    "colab": {
      "provenance": [],
      "authorship_tag": "ABX9TyNDAmzQMizPJmog5AA+eULU",
      "include_colab_link": true
    },
    "kernelspec": {
      "name": "python3",
      "display_name": "Python 3"
    },
    "language_info": {
      "name": "python"
    }
  },
  "cells": [
    {
      "cell_type": "markdown",
      "metadata": {
        "id": "view-in-github",
        "colab_type": "text"
      },
      "source": [
        "<a href=\"https://colab.research.google.com/github/rupesh743/Danny-Diner/blob/main/SQL.ipynb\" target=\"_parent\"><img src=\"https://colab.research.google.com/assets/colab-badge.svg\" alt=\"Open In Colab\"/></a>"
      ]
    },
    {
      "cell_type": "markdown",
      "source": [
        "# **Project** - **Danny_Diner**"
      ],
      "metadata": {
        "id": "HCKskE9d-fXX"
      }
    },
    {
      "cell_type": "code",
      "execution_count": 1,
      "metadata": {
        "colab": {
          "base_uri": "https://localhost:8080/"
        },
        "id": "MG9Go-oZH5uN",
        "outputId": "56f73af0-f77a-456b-96d4-f5c4adf8281b"
      },
      "outputs": [
        {
          "output_type": "stream",
          "name": "stdout",
          "text": [
            "\u001b[2K     \u001b[90m━━━━━━━━━━━━━━━━━━━━━━━━━━━━━━━━━━━━━━━━\u001b[0m \u001b[32m1.6/1.6 MB\u001b[0m \u001b[31m7.4 MB/s\u001b[0m eta \u001b[36m0:00:00\u001b[0m\n",
            "\u001b[?25h"
          ]
        }
      ],
      "source": [
        "# Important Extensions\n",
        "\n",
        "!pip install -q ipython-sql\n",
        "%load_ext sql\n",
        "%sql sqlite://"
      ]
    },
    {
      "cell_type": "code",
      "source": [
        "# Creating Table\n",
        "\n",
        "%%sql\n",
        "CREATE TABLE sales (\n",
        "  \"customer_id\" VARCHAR(1),\n",
        "  \"order_date\" DATE,\n",
        "  \"product_id\" INTEGER\n",
        ");\n",
        "\n",
        "INSERT INTO sales\n",
        "  (\"customer_id\", \"order_date\", \"product_id\")\n",
        "VALUES\n",
        "  ('A', '2021-01-01', '1'),\n",
        "  ('A', '2021-01-01', '2'),\n",
        "  ('A', '2021-01-07', '2'),\n",
        "  ('A', '2021-01-10', '3'),\n",
        "  ('A', '2021-01-11', '3'),\n",
        "  ('A', '2021-01-11', '3'),\n",
        "  ('B', '2021-01-01', '2'),\n",
        "  ('B', '2021-01-02', '2'),\n",
        "  ('B', '2021-01-04', '1'),\n",
        "  ('B', '2021-01-11', '1'),\n",
        "  ('B', '2021-01-16', '3'),\n",
        "  ('B', '2021-02-01', '3'),\n",
        "  ('C', '2021-01-01', '3'),\n",
        "  ('C', '2021-01-01', '3'),\n",
        "  ('C', '2021-01-07', '3');\n",
        "\n",
        "\n",
        "CREATE TABLE menu (\n",
        "  \"product_id\" INTEGER,\n",
        "  \"product_name\" VARCHAR(5),\n",
        "  \"price\" INTEGER\n",
        ");\n",
        "\n",
        "INSERT INTO menu\n",
        "  (\"product_id\", \"product_name\", \"price\")\n",
        "VALUES\n",
        "  ('1', 'sushi', '10'),\n",
        "  ('2', 'curry', '15'),\n",
        "  ('3', 'ramen', '12');\n",
        "\n",
        "\n",
        "CREATE TABLE members (\n",
        "  \"customer_id\" VARCHAR(1),\n",
        "  \"join_date\" DATE\n",
        ");\n",
        "\n",
        "INSERT INTO members\n",
        "  (\"customer_id\", \"join_date\")\n",
        "VALUES\n",
        "  ('A', '2021-01-07'),\n",
        "  ('B', '2021-01-09');"
      ],
      "metadata": {
        "colab": {
          "base_uri": "https://localhost:8080/"
        },
        "id": "GhJQayJtIIaX",
        "outputId": "924050ce-30f2-40ad-f3b4-a3a75ad13854"
      },
      "execution_count": 2,
      "outputs": [
        {
          "output_type": "stream",
          "name": "stdout",
          "text": [
            " * sqlite://\n",
            "Done.\n",
            "15 rows affected.\n",
            "Done.\n",
            "3 rows affected.\n",
            "Done.\n",
            "2 rows affected.\n"
          ]
        },
        {
          "output_type": "execute_result",
          "data": {
            "text/plain": [
              "[]"
            ]
          },
          "metadata": {},
          "execution_count": 2
        }
      ]
    },
    {
      "cell_type": "code",
      "source": [
        "%%sql\n",
        "Select * from Sales;"
      ],
      "metadata": {
        "colab": {
          "base_uri": "https://localhost:8080/",
          "height": 389
        },
        "id": "VUyExHHK-6_r",
        "outputId": "67de2509-61ae-4212-a6fc-310ba1a7eaa5"
      },
      "execution_count": 3,
      "outputs": [
        {
          "output_type": "stream",
          "name": "stdout",
          "text": [
            " * sqlite://\n",
            "Done.\n"
          ]
        },
        {
          "output_type": "execute_result",
          "data": {
            "text/plain": [
              "[('A', '2021-01-01', 1),\n",
              " ('A', '2021-01-01', 2),\n",
              " ('A', '2021-01-07', 2),\n",
              " ('A', '2021-01-10', 3),\n",
              " ('A', '2021-01-11', 3),\n",
              " ('A', '2021-01-11', 3),\n",
              " ('B', '2021-01-01', 2),\n",
              " ('B', '2021-01-02', 2),\n",
              " ('B', '2021-01-04', 1),\n",
              " ('B', '2021-01-11', 1),\n",
              " ('B', '2021-01-16', 3),\n",
              " ('B', '2021-02-01', 3),\n",
              " ('C', '2021-01-01', 3),\n",
              " ('C', '2021-01-01', 3),\n",
              " ('C', '2021-01-07', 3)]"
            ],
            "text/html": [
              "<table>\n",
              "    <thead>\n",
              "        <tr>\n",
              "            <th>customer_id</th>\n",
              "            <th>order_date</th>\n",
              "            <th>product_id</th>\n",
              "        </tr>\n",
              "    </thead>\n",
              "    <tbody>\n",
              "        <tr>\n",
              "            <td>A</td>\n",
              "            <td>2021-01-01</td>\n",
              "            <td>1</td>\n",
              "        </tr>\n",
              "        <tr>\n",
              "            <td>A</td>\n",
              "            <td>2021-01-01</td>\n",
              "            <td>2</td>\n",
              "        </tr>\n",
              "        <tr>\n",
              "            <td>A</td>\n",
              "            <td>2021-01-07</td>\n",
              "            <td>2</td>\n",
              "        </tr>\n",
              "        <tr>\n",
              "            <td>A</td>\n",
              "            <td>2021-01-10</td>\n",
              "            <td>3</td>\n",
              "        </tr>\n",
              "        <tr>\n",
              "            <td>A</td>\n",
              "            <td>2021-01-11</td>\n",
              "            <td>3</td>\n",
              "        </tr>\n",
              "        <tr>\n",
              "            <td>A</td>\n",
              "            <td>2021-01-11</td>\n",
              "            <td>3</td>\n",
              "        </tr>\n",
              "        <tr>\n",
              "            <td>B</td>\n",
              "            <td>2021-01-01</td>\n",
              "            <td>2</td>\n",
              "        </tr>\n",
              "        <tr>\n",
              "            <td>B</td>\n",
              "            <td>2021-01-02</td>\n",
              "            <td>2</td>\n",
              "        </tr>\n",
              "        <tr>\n",
              "            <td>B</td>\n",
              "            <td>2021-01-04</td>\n",
              "            <td>1</td>\n",
              "        </tr>\n",
              "        <tr>\n",
              "            <td>B</td>\n",
              "            <td>2021-01-11</td>\n",
              "            <td>1</td>\n",
              "        </tr>\n",
              "        <tr>\n",
              "            <td>B</td>\n",
              "            <td>2021-01-16</td>\n",
              "            <td>3</td>\n",
              "        </tr>\n",
              "        <tr>\n",
              "            <td>B</td>\n",
              "            <td>2021-02-01</td>\n",
              "            <td>3</td>\n",
              "        </tr>\n",
              "        <tr>\n",
              "            <td>C</td>\n",
              "            <td>2021-01-01</td>\n",
              "            <td>3</td>\n",
              "        </tr>\n",
              "        <tr>\n",
              "            <td>C</td>\n",
              "            <td>2021-01-01</td>\n",
              "            <td>3</td>\n",
              "        </tr>\n",
              "        <tr>\n",
              "            <td>C</td>\n",
              "            <td>2021-01-07</td>\n",
              "            <td>3</td>\n",
              "        </tr>\n",
              "    </tbody>\n",
              "</table>"
            ]
          },
          "metadata": {},
          "execution_count": 3
        }
      ]
    },
    {
      "cell_type": "code",
      "source": [
        "%%sql\n",
        "Select * from menu;"
      ],
      "metadata": {
        "colab": {
          "base_uri": "https://localhost:8080/",
          "height": 137
        },
        "id": "UOVSU3H2_JgL",
        "outputId": "c8e01b22-feb8-4df0-f10a-c1526e13af28"
      },
      "execution_count": 4,
      "outputs": [
        {
          "output_type": "stream",
          "name": "stdout",
          "text": [
            " * sqlite://\n",
            "Done.\n"
          ]
        },
        {
          "output_type": "execute_result",
          "data": {
            "text/plain": [
              "[(1, 'sushi', 10), (2, 'curry', 15), (3, 'ramen', 12)]"
            ],
            "text/html": [
              "<table>\n",
              "    <thead>\n",
              "        <tr>\n",
              "            <th>product_id</th>\n",
              "            <th>product_name</th>\n",
              "            <th>price</th>\n",
              "        </tr>\n",
              "    </thead>\n",
              "    <tbody>\n",
              "        <tr>\n",
              "            <td>1</td>\n",
              "            <td>sushi</td>\n",
              "            <td>10</td>\n",
              "        </tr>\n",
              "        <tr>\n",
              "            <td>2</td>\n",
              "            <td>curry</td>\n",
              "            <td>15</td>\n",
              "        </tr>\n",
              "        <tr>\n",
              "            <td>3</td>\n",
              "            <td>ramen</td>\n",
              "            <td>12</td>\n",
              "        </tr>\n",
              "    </tbody>\n",
              "</table>"
            ]
          },
          "metadata": {},
          "execution_count": 4
        }
      ]
    },
    {
      "cell_type": "code",
      "source": [
        "%%sql\n",
        "Select * from members;"
      ],
      "metadata": {
        "colab": {
          "base_uri": "https://localhost:8080/",
          "height": 116
        },
        "id": "0iuRaXBs_PYR",
        "outputId": "e13c959b-2ade-404c-b79f-381f3849dbda"
      },
      "execution_count": 5,
      "outputs": [
        {
          "output_type": "stream",
          "name": "stdout",
          "text": [
            " * sqlite://\n",
            "Done.\n"
          ]
        },
        {
          "output_type": "execute_result",
          "data": {
            "text/plain": [
              "[('A', '2021-01-07'), ('B', '2021-01-09')]"
            ],
            "text/html": [
              "<table>\n",
              "    <thead>\n",
              "        <tr>\n",
              "            <th>customer_id</th>\n",
              "            <th>join_date</th>\n",
              "        </tr>\n",
              "    </thead>\n",
              "    <tbody>\n",
              "        <tr>\n",
              "            <td>A</td>\n",
              "            <td>2021-01-07</td>\n",
              "        </tr>\n",
              "        <tr>\n",
              "            <td>B</td>\n",
              "            <td>2021-01-09</td>\n",
              "        </tr>\n",
              "    </tbody>\n",
              "</table>"
            ]
          },
          "metadata": {},
          "execution_count": 5
        }
      ]
    },
    {
      "cell_type": "markdown",
      "source": [
        "**Case Study Questions**\n",
        "\n",
        "1. What is the total amount each customer spent at the restaurant?\n",
        "\n",
        "2. How many days has each customer visited the restaurant?\n",
        "\n",
        "3. What was the first item from the menu purchased by each customer?\n",
        "\n",
        "4. What is the most purchased item on the menu and how many times was it purchased by all customers?\n",
        "\n",
        "5. Which item was the most popular for each customer?\n",
        "\n",
        "6. Which item was purchased first by the customer after they became a member?\n",
        "\n",
        "7. Which item was purchased just before the customer became a member?\n",
        "\n",
        "8. What is the total items and amount spent for each member before they became a member?\n",
        "\n",
        "9. If each $1 spent equates to 10 points and sushi has a 2x points multiplier - how many points would each customer have?\n",
        "\n",
        "10. In the first week after a customer joins the program (including their join date)\n",
        "they earn 2x points on all items, not just sushi - how many points do customer A and B have at the end of January?\n"
      ],
      "metadata": {
        "id": "XTAJyMi7_RF2"
      }
    },
    {
      "cell_type": "markdown",
      "source": [
        "## **Total Amount Spent by Each Customer:**\n",
        "\n",
        "Calculated the total amount spent by each customer by joining the Sales table with the Menu table on the product_id column and grouping the results by customer ID while summing up the prices of purchased items."
      ],
      "metadata": {
        "id": "kIaOgydYlPXl"
      }
    },
    {
      "cell_type": "code",
      "source": [
        "%%sql\n",
        "-- 1. What is the total amount each customer spent at the restaurant?\n",
        "\n",
        "select\n",
        "    s.customer_id,\n",
        "    sum(m.price) as total_amount_spent\n",
        "from sales s\n",
        "join menu m on s.product_id = m.product_id\n",
        "group by s.customer_id;\n"
      ],
      "metadata": {
        "colab": {
          "base_uri": "https://localhost:8080/",
          "height": 137
        },
        "id": "TV_YAW2jAbVR",
        "outputId": "54894c32-d7ed-4e6d-f20e-7bf1377c9512"
      },
      "execution_count": 6,
      "outputs": [
        {
          "output_type": "stream",
          "name": "stdout",
          "text": [
            " * sqlite://\n",
            "Done.\n"
          ]
        },
        {
          "output_type": "execute_result",
          "data": {
            "text/plain": [
              "[('A', 76), ('B', 74), ('C', 36)]"
            ],
            "text/html": [
              "<table>\n",
              "    <thead>\n",
              "        <tr>\n",
              "            <th>customer_id</th>\n",
              "            <th>total_amount_spent</th>\n",
              "        </tr>\n",
              "    </thead>\n",
              "    <tbody>\n",
              "        <tr>\n",
              "            <td>A</td>\n",
              "            <td>76</td>\n",
              "        </tr>\n",
              "        <tr>\n",
              "            <td>B</td>\n",
              "            <td>74</td>\n",
              "        </tr>\n",
              "        <tr>\n",
              "            <td>C</td>\n",
              "            <td>36</td>\n",
              "        </tr>\n",
              "    </tbody>\n",
              "</table>"
            ]
          },
          "metadata": {},
          "execution_count": 6
        }
      ]
    },
    {
      "cell_type": "markdown",
      "source": [
        "## **Number of Days Visited by Each Customer:**\n",
        "\n",
        "Determined the number of distinct days each customer visited the restaurant by selecting the customer ID and counting the distinct order dates from the Sales table, grouping the results by customer ID."
      ],
      "metadata": {
        "id": "dp_vkeAemaSN"
      }
    },
    {
      "cell_type": "code",
      "source": [
        "%%sql\n",
        "-- 2. How many days has each customer visited the restaurant?\n",
        "select\n",
        "    customer_id,\n",
        "    count(distinct order_date) as days_visited\n",
        "from sales\n",
        "group by customer_id;\n"
      ],
      "metadata": {
        "colab": {
          "base_uri": "https://localhost:8080/",
          "height": 137
        },
        "id": "ChxR73ssCpFy",
        "outputId": "b76a05b3-8ad6-40e2-dad5-3c2155e30a7d"
      },
      "execution_count": 7,
      "outputs": [
        {
          "output_type": "stream",
          "name": "stdout",
          "text": [
            " * sqlite://\n",
            "Done.\n"
          ]
        },
        {
          "output_type": "execute_result",
          "data": {
            "text/plain": [
              "[('A', 4), ('B', 6), ('C', 2)]"
            ],
            "text/html": [
              "<table>\n",
              "    <thead>\n",
              "        <tr>\n",
              "            <th>customer_id</th>\n",
              "            <th>days_visited</th>\n",
              "        </tr>\n",
              "    </thead>\n",
              "    <tbody>\n",
              "        <tr>\n",
              "            <td>A</td>\n",
              "            <td>4</td>\n",
              "        </tr>\n",
              "        <tr>\n",
              "            <td>B</td>\n",
              "            <td>6</td>\n",
              "        </tr>\n",
              "        <tr>\n",
              "            <td>C</td>\n",
              "            <td>2</td>\n",
              "        </tr>\n",
              "    </tbody>\n",
              "</table>"
            ]
          },
          "metadata": {},
          "execution_count": 7
        }
      ]
    },
    {
      "cell_type": "markdown",
      "source": [
        "## **First Item Purchased by Each Customer:**\n",
        "Identified the first item purchased by each customer by joining the Sales table with the Menu table on the product_id column, grouping the results by customer ID, and selecting the product name of the first item purchased."
      ],
      "metadata": {
        "id": "zFr4wschmvul"
      }
    },
    {
      "cell_type": "code",
      "source": [
        "%%sql\n",
        "-- 3. What was the first item from the menu purchased by each customer?\n",
        "\n",
        "select\n",
        "    s.customer_id,\n",
        "    m.product_name as first_item_purchased\n",
        "from sales s\n",
        "join menu m on s.product_id = m.product_id\n",
        "group by s.customer_id;\n"
      ],
      "metadata": {
        "colab": {
          "base_uri": "https://localhost:8080/",
          "height": 137
        },
        "id": "CnDWdNLuF_qE",
        "outputId": "36a0aab0-e9f4-44b4-f8cf-04f8962e9980"
      },
      "execution_count": 8,
      "outputs": [
        {
          "output_type": "stream",
          "name": "stdout",
          "text": [
            " * sqlite://\n",
            "Done.\n"
          ]
        },
        {
          "output_type": "execute_result",
          "data": {
            "text/plain": [
              "[('A', 'sushi'), ('B', 'curry'), ('C', 'ramen')]"
            ],
            "text/html": [
              "<table>\n",
              "    <thead>\n",
              "        <tr>\n",
              "            <th>customer_id</th>\n",
              "            <th>first_item_purchased</th>\n",
              "        </tr>\n",
              "    </thead>\n",
              "    <tbody>\n",
              "        <tr>\n",
              "            <td>A</td>\n",
              "            <td>sushi</td>\n",
              "        </tr>\n",
              "        <tr>\n",
              "            <td>B</td>\n",
              "            <td>curry</td>\n",
              "        </tr>\n",
              "        <tr>\n",
              "            <td>C</td>\n",
              "            <td>ramen</td>\n",
              "        </tr>\n",
              "    </tbody>\n",
              "</table>"
            ]
          },
          "metadata": {},
          "execution_count": 8
        }
      ]
    },
    {
      "cell_type": "markdown",
      "source": [
        "## **Most Purchased Item on the Menu:**\n",
        "Identified the most purchased item on the menu by joining the Sales table with the Menu table on the product_id column, grouping the results by product name, and ordering the results by purchase count in descending order, then limiting to the top item."
      ],
      "metadata": {
        "id": "_Kxh640mmzVD"
      }
    },
    {
      "cell_type": "code",
      "source": [
        "%%sql\n",
        "-- 4. What is the most purchased item on the menu and how many times was it purchased by all customers?\n",
        "select\n",
        "    m.product_name,\n",
        "    count(*) as purchase_count\n",
        "from sales s\n",
        "join menu m on s.product_id = m.product_id\n",
        "group by m.product_name\n",
        "order by purchase_count desc\n",
        "limit 1;\n"
      ],
      "metadata": {
        "colab": {
          "base_uri": "https://localhost:8080/",
          "height": 95
        },
        "id": "BfHcdldKGSzf",
        "outputId": "5e7889a8-7d53-4e36-fc3b-0352c5946f9f"
      },
      "execution_count": 9,
      "outputs": [
        {
          "output_type": "stream",
          "name": "stdout",
          "text": [
            " * sqlite://\n",
            "Done.\n"
          ]
        },
        {
          "output_type": "execute_result",
          "data": {
            "text/plain": [
              "[('ramen', 8)]"
            ],
            "text/html": [
              "<table>\n",
              "    <thead>\n",
              "        <tr>\n",
              "            <th>product_name</th>\n",
              "            <th>purchase_count</th>\n",
              "        </tr>\n",
              "    </thead>\n",
              "    <tbody>\n",
              "        <tr>\n",
              "            <td>ramen</td>\n",
              "            <td>8</td>\n",
              "        </tr>\n",
              "    </tbody>\n",
              "</table>"
            ]
          },
          "metadata": {},
          "execution_count": 9
        }
      ]
    },
    {
      "cell_type": "markdown",
      "source": [
        "## **Most Popular Item for Each Customer:**\n",
        "Determined the most popular item for each customer by joining the Sales table with the Menu table on the product_id column, grouping the results by customer ID and product name, and ordering the results by purchase count in descending order."
      ],
      "metadata": {
        "id": "N-GDtCOPm4yC"
      }
    },
    {
      "cell_type": "code",
      "source": [
        "%%sql\n",
        "-- 5. Which item was the most popular for each customer?\n",
        "\n",
        "select\n",
        "    s.customer_id,\n",
        "    m.product_name,\n",
        "    count(m.product_name) as p_count\n",
        "from sales s\n",
        "join menu m on m.product_id = s.product_id\n",
        "group by s.customer_id, m.product_name\n",
        "order by s.customer_id, p_count\n",
        "limit 2, 5;\n"
      ],
      "metadata": {
        "colab": {
          "base_uri": "https://localhost:8080/",
          "height": 179
        },
        "id": "SImJWEVLJz8S",
        "outputId": "4bda312b-9fbc-4f19-9160-13431e4adc1b"
      },
      "execution_count": 10,
      "outputs": [
        {
          "output_type": "stream",
          "name": "stdout",
          "text": [
            " * sqlite://\n",
            "Done.\n"
          ]
        },
        {
          "output_type": "execute_result",
          "data": {
            "text/plain": [
              "[('A', 'ramen', 3),\n",
              " ('B', 'curry', 2),\n",
              " ('B', 'ramen', 2),\n",
              " ('B', 'sushi', 2),\n",
              " ('C', 'ramen', 3)]"
            ],
            "text/html": [
              "<table>\n",
              "    <thead>\n",
              "        <tr>\n",
              "            <th>customer_id</th>\n",
              "            <th>product_name</th>\n",
              "            <th>p_count</th>\n",
              "        </tr>\n",
              "    </thead>\n",
              "    <tbody>\n",
              "        <tr>\n",
              "            <td>A</td>\n",
              "            <td>ramen</td>\n",
              "            <td>3</td>\n",
              "        </tr>\n",
              "        <tr>\n",
              "            <td>B</td>\n",
              "            <td>curry</td>\n",
              "            <td>2</td>\n",
              "        </tr>\n",
              "        <tr>\n",
              "            <td>B</td>\n",
              "            <td>ramen</td>\n",
              "            <td>2</td>\n",
              "        </tr>\n",
              "        <tr>\n",
              "            <td>B</td>\n",
              "            <td>sushi</td>\n",
              "            <td>2</td>\n",
              "        </tr>\n",
              "        <tr>\n",
              "            <td>C</td>\n",
              "            <td>ramen</td>\n",
              "            <td>3</td>\n",
              "        </tr>\n",
              "    </tbody>\n",
              "</table>"
            ]
          },
          "metadata": {},
          "execution_count": 10
        }
      ]
    },
    {
      "cell_type": "markdown",
      "source": [
        "## **First Item Purchased After Becoming a Member:**\n",
        "Identified the first item purchased by each customer after they became a member by joining the Sales table with the Menu table on the product_id column, filtering for purchases after the join date of the member, and grouping the results by customer ID."
      ],
      "metadata": {
        "id": "JtGETpj6m_QO"
      }
    },
    {
      "cell_type": "code",
      "source": [
        "%%sql\n",
        "-- 6. Which item was purchased first by the customer after they became a member?\n",
        "select customer_id, order_date, product_name\n",
        "from (\n",
        "    select\n",
        "        sales.customer_id,\n",
        "        sales.order_date,\n",
        "        menu.product_name,\n",
        "        row_number() over (partition by sales.customer_id order by sales.order_date) as rn\n",
        "    from sales\n",
        "    left join menu on sales.product_id = menu.product_id\n",
        "    left join members on sales.customer_id = members.customer_id\n",
        "    where\n",
        "        (sales.customer_id = 'A' and sales.order_date > '2021-01-07') or\n",
        "        (sales.customer_id = 'B' and sales.order_date > '2021-01-09')\n",
        ") subquery\n",
        "where rn = 1;\n"
      ],
      "metadata": {
        "colab": {
          "base_uri": "https://localhost:8080/",
          "height": 116
        },
        "id": "1PQJhBsYL6cf",
        "outputId": "bea5b21f-0164-4e61-d8d1-2221041c6756"
      },
      "execution_count": 19,
      "outputs": [
        {
          "output_type": "stream",
          "name": "stdout",
          "text": [
            " * sqlite://\n",
            "Done.\n"
          ]
        },
        {
          "output_type": "execute_result",
          "data": {
            "text/plain": [
              "[('A', '2021-01-10', 'ramen'), ('B', '2021-01-11', 'sushi')]"
            ],
            "text/html": [
              "<table>\n",
              "    <thead>\n",
              "        <tr>\n",
              "            <th>customer_id</th>\n",
              "            <th>order_date</th>\n",
              "            <th>product_name</th>\n",
              "        </tr>\n",
              "    </thead>\n",
              "    <tbody>\n",
              "        <tr>\n",
              "            <td>A</td>\n",
              "            <td>2021-01-10</td>\n",
              "            <td>ramen</td>\n",
              "        </tr>\n",
              "        <tr>\n",
              "            <td>B</td>\n",
              "            <td>2021-01-11</td>\n",
              "            <td>sushi</td>\n",
              "        </tr>\n",
              "    </tbody>\n",
              "</table>"
            ]
          },
          "metadata": {},
          "execution_count": 19
        }
      ]
    },
    {
      "cell_type": "markdown",
      "source": [
        "## **Item Purchased Just Before Becoming a Member:**\n",
        "Identified the item purchased just before each customer became a member by joining the Sales table with the Menu table on the product_id column, filtering for purchases before the join date of the member, and grouping the results by customer ID."
      ],
      "metadata": {
        "id": "IlfUQ06cnGNG"
      }
    },
    {
      "cell_type": "code",
      "source": [
        "%%sql\n",
        "-- 7. Which item was purchased just before the customer became a member?\n",
        "\n",
        "select\n",
        "    s.customer_id,\n",
        "    m.product_name,\n",
        "    s.order_date,\n",
        "    m1.join_date\n",
        "from sales s\n",
        "join menu m on s.product_id = m.product_id\n",
        "join members m1 on s.customer_id = m1.customer_id\n",
        "where s.order_date < m1.join_date\n",
        "group by m1.customer_id\n",
        "order by s.order_date;\n"
      ],
      "metadata": {
        "colab": {
          "base_uri": "https://localhost:8080/",
          "height": 116
        },
        "id": "6yNp3sOBiOEJ",
        "outputId": "f913d092-6e73-4062-eb6b-9ede0f9f859d"
      },
      "execution_count": 18,
      "outputs": [
        {
          "output_type": "stream",
          "name": "stdout",
          "text": [
            " * sqlite://\n",
            "Done.\n"
          ]
        },
        {
          "output_type": "execute_result",
          "data": {
            "text/plain": [
              "[('A', 'sushi', '2021-01-01', '2021-01-07'),\n",
              " ('B', 'curry', '2021-01-01', '2021-01-09')]"
            ],
            "text/html": [
              "<table>\n",
              "    <thead>\n",
              "        <tr>\n",
              "            <th>customer_id</th>\n",
              "            <th>product_name</th>\n",
              "            <th>order_date</th>\n",
              "            <th>join_date</th>\n",
              "        </tr>\n",
              "    </thead>\n",
              "    <tbody>\n",
              "        <tr>\n",
              "            <td>A</td>\n",
              "            <td>sushi</td>\n",
              "            <td>2021-01-01</td>\n",
              "            <td>2021-01-07</td>\n",
              "        </tr>\n",
              "        <tr>\n",
              "            <td>B</td>\n",
              "            <td>curry</td>\n",
              "            <td>2021-01-01</td>\n",
              "            <td>2021-01-09</td>\n",
              "        </tr>\n",
              "    </tbody>\n",
              "</table>"
            ]
          },
          "metadata": {},
          "execution_count": 18
        }
      ]
    },
    {
      "cell_type": "markdown",
      "source": [
        "##**Total Items and Amount Spent Before Becoming a Member:**\n",
        "Calculated the total items and amount spent for each customer before they became a member by joining the Sales table with the Menu table on the product_id column, filtering for purchases before the join date of the member, and grouping the results by customer ID while summing up the prices of purchased items."
      ],
      "metadata": {
        "id": "093BDOaLnQNA"
      }
    },
    {
      "cell_type": "code",
      "source": [
        "%%sql\n",
        "-- 8. What is the total items and amount spent for each member before they became a member?\n",
        "\n",
        "select\n",
        "    s.customer_id,\n",
        "    m.product_name,\n",
        "    s.order_date,\n",
        "    m1.join_date,\n",
        "    sum(m.price) as total_spent\n",
        "from sales s\n",
        "join menu m on s.product_id = m.product_id\n",
        "join members m1 on s.customer_id = m1.customer_id\n",
        "where s.order_date < m1.join_date\n",
        "group by m1.customer_id\n",
        "order by s.order_date;\n"
      ],
      "metadata": {
        "colab": {
          "base_uri": "https://localhost:8080/",
          "height": 116
        },
        "id": "A8mqiHhtiTuj",
        "outputId": "5bd85e92-fae8-4621-cd24-095973142e5c"
      },
      "execution_count": 17,
      "outputs": [
        {
          "output_type": "stream",
          "name": "stdout",
          "text": [
            " * sqlite://\n",
            "Done.\n"
          ]
        },
        {
          "output_type": "execute_result",
          "data": {
            "text/plain": [
              "[('A', 'sushi', '2021-01-01', '2021-01-07', 25),\n",
              " ('B', 'curry', '2021-01-01', '2021-01-09', 40)]"
            ],
            "text/html": [
              "<table>\n",
              "    <thead>\n",
              "        <tr>\n",
              "            <th>customer_id</th>\n",
              "            <th>product_name</th>\n",
              "            <th>order_date</th>\n",
              "            <th>join_date</th>\n",
              "            <th>total_spent</th>\n",
              "        </tr>\n",
              "    </thead>\n",
              "    <tbody>\n",
              "        <tr>\n",
              "            <td>A</td>\n",
              "            <td>sushi</td>\n",
              "            <td>2021-01-01</td>\n",
              "            <td>2021-01-07</td>\n",
              "            <td>25</td>\n",
              "        </tr>\n",
              "        <tr>\n",
              "            <td>B</td>\n",
              "            <td>curry</td>\n",
              "            <td>2021-01-01</td>\n",
              "            <td>2021-01-09</td>\n",
              "            <td>40</td>\n",
              "        </tr>\n",
              "    </tbody>\n",
              "</table>"
            ]
          },
          "metadata": {},
          "execution_count": 17
        }
      ]
    },
    {
      "cell_type": "markdown",
      "source": [
        "## **Points Earned by Each Customer:**\n",
        "Calculated the points earned by each customer based on their purchases, where each $1 spent equates to 10 points and sushi has a 2x points multiplier. Joined the Sales table with the Menu table on the product_id column and applied the points multiplier for sushi purchases."
      ],
      "metadata": {
        "id": "iqzQ9GiLnUNo"
      }
    },
    {
      "cell_type": "code",
      "source": [
        "%%sql\n",
        "-- 9. If each $1 spent equates to 10 points and sushi has a 2x points multiplier - how many points would each customer have?\n",
        "select customer_id,\n",
        "sum(case\n",
        "    when product_name = 'sushi' then 20 * price\n",
        "    else 10 * price\n",
        "end) total_points\n",
        "from sales s\n",
        "join menu m\n",
        "  on s.product_id = m.product_id\n",
        "group by customer_id;"
      ],
      "metadata": {
        "colab": {
          "base_uri": "https://localhost:8080/",
          "height": 137
        },
        "id": "71pKVXNQlJ1r",
        "outputId": "faf35380-d78a-42ab-d728-00838db6542a"
      },
      "execution_count": 14,
      "outputs": [
        {
          "output_type": "stream",
          "name": "stdout",
          "text": [
            " * sqlite://\n",
            "Done.\n"
          ]
        },
        {
          "output_type": "execute_result",
          "data": {
            "text/plain": [
              "[('A', 860), ('B', 940), ('C', 360)]"
            ],
            "text/html": [
              "<table>\n",
              "    <thead>\n",
              "        <tr>\n",
              "            <th>customer_id</th>\n",
              "            <th>total_points</th>\n",
              "        </tr>\n",
              "    </thead>\n",
              "    <tbody>\n",
              "        <tr>\n",
              "            <td>A</td>\n",
              "            <td>860</td>\n",
              "        </tr>\n",
              "        <tr>\n",
              "            <td>B</td>\n",
              "            <td>940</td>\n",
              "        </tr>\n",
              "        <tr>\n",
              "            <td>C</td>\n",
              "            <td>360</td>\n",
              "        </tr>\n",
              "    </tbody>\n",
              "</table>"
            ]
          },
          "metadata": {},
          "execution_count": 14
        }
      ]
    },
    {
      "cell_type": "markdown",
      "source": [
        "## **Points Earned by Customers After Joining the Program:**\n",
        "Calculated the points earned by customers A and B in the first week after joining the program, where they earn double points on all items. Joined the Sales table with the Menu table on the product_id column and applied the points multiplier for purchases made within the first week after joining the program."
      ],
      "metadata": {
        "id": "5JXhIPrrnZXX"
      }
    },
    {
      "cell_type": "code",
      "source": [
        "%%sql\n",
        "-- 10. In the first week after a customer joins the program (including their join date)\n",
        "--     they earn 2x points on all items, not just sushi - how many points do customer A and B have at the end of January?\n",
        "\n",
        "select customer_id,\n",
        "       sum(case\n",
        "           when order_date >= join_date and order_date < date(join_date, '+7 days') then 20 * price\n",
        "           else 10 * price\n",
        "       end) as total_points\n",
        "from (\n",
        "    select s.customer_id,\n",
        "           s.order_date,\n",
        "           m.price,\n",
        "           mem.join_date\n",
        "    from sales s\n",
        "    join menu m on s.product_id = m.product_id\n",
        "    left join members mem on s.customer_id = mem.customer_id\n",
        "    where s.order_date >= '2021-01-01' and s.order_date < '2021-02-01'\n",
        "      and (s.customer_id = 'A' or s.customer_id = 'B')\n",
        ")\n",
        "group by customer_id;\n"
      ],
      "metadata": {
        "colab": {
          "base_uri": "https://localhost:8080/",
          "height": 116
        },
        "id": "kXmmNJslsWuB",
        "outputId": "415cd5a2-dcee-49e6-ccd3-a58194feb398"
      },
      "execution_count": 16,
      "outputs": [
        {
          "output_type": "stream",
          "name": "stdout",
          "text": [
            " * sqlite://\n",
            "Done.\n"
          ]
        },
        {
          "output_type": "execute_result",
          "data": {
            "text/plain": [
              "[('A', 1270), ('B', 720)]"
            ],
            "text/html": [
              "<table>\n",
              "    <thead>\n",
              "        <tr>\n",
              "            <th>customer_id</th>\n",
              "            <th>total_points</th>\n",
              "        </tr>\n",
              "    </thead>\n",
              "    <tbody>\n",
              "        <tr>\n",
              "            <td>A</td>\n",
              "            <td>1270</td>\n",
              "        </tr>\n",
              "        <tr>\n",
              "            <td>B</td>\n",
              "            <td>720</td>\n",
              "        </tr>\n",
              "    </tbody>\n",
              "</table>"
            ]
          },
          "metadata": {},
          "execution_count": 16
        }
      ]
    },
    {
      "cell_type": "code",
      "source": [],
      "metadata": {
        "id": "JRGLq474ntlx"
      },
      "execution_count": null,
      "outputs": []
    }
  ]
}